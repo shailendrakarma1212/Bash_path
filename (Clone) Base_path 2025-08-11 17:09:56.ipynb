{
 "cells": [
  {
   "cell_type": "markdown",
   "metadata": {
    "application/vnd.databricks.v1+cell": {
     "cellMetadata": {},
     "inputWidgets": {},
     "nuid": "7ab0ae4a-0e96-4f10-99b4-1272dae15deb",
     "showTitle": false,
     "tableResultSettingsMap": {},
     "title": ""
    }
   },
   "source": [
    "### filename_basepath =....\n"
   ]
  },
  {
   "cell_type": "code",
   "execution_count": 0,
   "metadata": {
    "application/vnd.databricks.v1+cell": {
     "cellMetadata": {
      "byteLimit": 2048000,
      "rowLimit": 10000
     },
     "inputWidgets": {},
     "nuid": "6c57fbeb-5ce3-4ca3-a15b-583b14e2fadd",
     "showTitle": false,
     "tableResultSettingsMap": {},
     "title": ""
    }
   },
   "outputs": [],
   "source": [
    "from pathlib import Path\n",
    "\n",
    "# 1️ Base path in Unity Catalog\n",
    "base_path = \"/Volumes/workspace/default/my_file\"\n",
    "\n",
    "# 2️ Store file paths\n",
    "file_paths = []\n",
    "\n",
    "def list_all_files(path):\n",
    "    \"\"\"Recursively list all files in Databricks FS path.\"\"\"\n",
    "    items = dbutils.fs.ls(path)\n",
    "    for item in items:\n",
    "        if item.isDir():\n",
    "            list_all_files(item.path)  # Go deeper into subdirectories\n",
    "        else:\n",
    "            file_paths.append(item.path)\n",
    "\n",
    "# 3️ Run the function for the given base_path\n",
    "list_all_files(base_path)\n",
    "\n",
    "# 4️ Print each file with its base path variable name\n",
    "def create_variable_name(file_path):\n",
    "    filename = Path(file_path).stem.replace(\" \", \"_\").replace(\"-\", \"_\")\n",
    "    return f\"{filename}_basepath\"\n",
    "\n",
    "for file in file_paths:\n",
    "    var_name = create_variable_name(file)\n",
    "    print(f\"{var_name} = '{file}'\")\n"
   ]
  },
  {
   "cell_type": "markdown",
   "metadata": {
    "application/vnd.databricks.v1+cell": {
     "cellMetadata": {},
     "inputWidgets": {},
     "nuid": "eb01b873-4048-4796-b214-376180cba0a2",
     "showTitle": false,
     "tableResultSettingsMap": {},
     "title": ""
    }
   },
   "source": [
    "### 1.filename_basepath =.... \n",
    "### 2.get_latest_partition_path"
   ]
  },
  {
   "cell_type": "code",
   "execution_count": 0,
   "metadata": {
    "application/vnd.databricks.v1+cell": {
     "cellMetadata": {
      "byteLimit": 2048000,
      "rowLimit": 10000
     },
     "inputWidgets": {},
     "nuid": "28921b06-410d-4dba-9afe-b2bd644e4c88",
     "showTitle": false,
     "tableResultSettingsMap": {},
     "title": ""
    }
   },
   "outputs": [],
   "source": [
    "from pathlib import Path\n",
    "\n",
    "# 1️Base path in Unity Catalog\n",
    "# base_path = \"my_unity_catalog_metastore.version_contol.version_con_file\"\n",
    "\n",
    "# base_path = \"/Volumes/workspace/default/my_file\"\n",
    "base_path = \"/Volumes/workspace/default/my_file/bash_path/\"\n",
    "\n",
    "# 2️ Store file paths\n",
    "file_paths = []\n",
    "\n",
    "def list_all_files(path):\n",
    "    \"\"\"Recursively list all files in Databricks FS path.\"\"\"\n",
    "    items = dbutils.fs.ls(path)\n",
    "    for item in items:\n",
    "        if item.isDir():\n",
    "            list_all_files(item.path)  # Go deeper into subdirectories\n",
    "        else:\n",
    "            file_paths.append(item.path)\n",
    "\n",
    "# 3️ Run the function for the given base_path\n",
    "list_all_files(base_path)\n",
    "\n",
    "# 4️ Print each file with its base path variable name\n",
    "def create_variable_name(file_path):\n",
    "    filename = Path(file_path).stem.replace(\" \", \"_\").replace(\"-\", \"_\")\n",
    "    return f\"{filename}_basepath\"\n",
    "\n",
    "# Store variables in a dictionary for later use\n",
    "file_basepaths = {}\n",
    "for file in file_paths:\n",
    "    var_name = create_variable_name(file)\n",
    "    file_basepaths[var_name] = file\n",
    "    print(f\"{var_name} = '{file}'\")\n",
    "\n",
    "# 5️Function to get latest partition path\n",
    "def get_latest_partition_path(path):\n",
    "    items = dbutils.fs.ls(path)\n",
    "    partition_dirs = [item.path for item in items if item.isDir()]\n",
    "    if not partition_dirs:\n",
    "        return None\n",
    "    latest_dir = max(partition_dirs, key=lambda p: dbutils.fs.ls(p)[0].modificationTime if dbutils.fs.ls(p) else 0)\n",
    "    return latest_dir\n",
    "\n",
    "# 6️ Example usage for each base path variable\n",
    "for var_name, file_path in file_basepaths.items():\n",
    "    latest_partition = get_latest_partition_path(file_path)\n",
    "    if latest_partition:\n",
    "        print(f\"latest_path_{var_name} = '{latest_partition}'\")\n"
   ]
  },
  {
   "cell_type": "code",
   "execution_count": 0,
   "metadata": {
    "application/vnd.databricks.v1+cell": {
     "cellMetadata": {
      "byteLimit": 2048000,
      "implicitDf": true,
      "rowLimit": 10000
     },
     "inputWidgets": {},
     "nuid": "ac066b71-9400-4564-aa44-a4eb13c70f4c",
     "showTitle": false,
     "tableResultSettingsMap": {},
     "title": ""
    }
   },
   "outputs": [],
   "source": [
    "%sql\n",
    "CREATE TABLE my_unity_catalog_metastore.base_path.base_path_info(\n",
    "  base_path_name STRING,\n",
    "  path_location STRING\n",
    ");"
   ]
  },
  {
   "cell_type": "code",
   "execution_count": 0,
   "metadata": {
    "application/vnd.databricks.v1+cell": {
     "cellMetadata": {
      "byteLimit": 2048000,
      "implicitDf": true,
      "rowLimit": 10000
     },
     "inputWidgets": {},
     "nuid": "9a49f55b-8104-45a1-8796-5081c3ef1679",
     "showTitle": false,
     "tableResultSettingsMap": {},
     "title": ""
    }
   },
   "outputs": [],
   "source": [
    "%sql\n",
    "CREATE TABLE my_unity_catalog_metastore.base_path.latest_partition_path_info(\n",
    "  large_path_Name STRING,\n",
    "  latest_path_location STRING\n",
    ")"
   ]
  },
  {
   "cell_type": "markdown",
   "metadata": {
    "application/vnd.databricks.v1+cell": {
     "cellMetadata": {},
     "inputWidgets": {},
     "nuid": "8a6bcfe6-6137-466a-892d-9a3d368909a6",
     "showTitle": false,
     "tableResultSettingsMap": {},
     "title": ""
    }
   },
   "source": [
    "### finel working code"
   ]
  },
  {
   "cell_type": "code",
   "execution_count": 0,
   "metadata": {
    "application/vnd.databricks.v1+cell": {
     "cellMetadata": {
      "byteLimit": 2048000,
      "rowLimit": 10000
     },
     "inputWidgets": {},
     "nuid": "e4afdda8-b543-4475-a092-3b2f2f662217",
     "showTitle": false,
     "tableResultSettingsMap": {},
     "title": ""
    }
   },
   "outputs": [],
   "source": [
    "from pathlib import Path\n",
    "\n",
    "# ---------- CONFIG ----------\n",
    "base_path = \"/Volumes/workspace/default/my_file/bash_path/\"  # <-- your base path\n",
    "\n",
    "# ---------- HELPERS ----------\n",
    "def sql_escape(s: str) -> str:\n",
    "    # escape single quotes for safe SQL insertion\n",
    "    return s.replace(\"'\", \"''\")\n",
    "\n",
    "file_paths = []\n",
    "\n",
    "def list_all_files(path: str):\n",
    "    \"\"\"Recursively collect file paths under `path` (uses dbutils).\"\"\"\n",
    "    try:\n",
    "        for item in dbutils.fs.ls(path):\n",
    "            if item.isDir():\n",
    "                list_all_files(item.path)\n",
    "            else:\n",
    "                file_paths.append(item.path)\n",
    "    except Exception as e:\n",
    "        # optionally print or handle listing errors\n",
    "        print(f\"Error listing {path}: {e}\")\n",
    "\n",
    "# ---------- STEP 1: collect files ----------\n",
    "list_all_files(base_path)\n",
    "\n",
    "# ---------- STEP 2: insert single base_path row ----------\n",
    "# derive base_path_name as the parent folder of the last segment (e.g. 'my_file')\n",
    "base_path_name = Path(base_path).parts[-2]  # -> 'my_file'\n",
    "\n",
    "spark.sql(f\"\"\"\n",
    "    INSERT INTO my_unity_catalog_metastore.base_path.base_path_info\n",
    "    VALUES ('{sql_escape(base_path_name)}', '{sql_escape(base_path)}')\n",
    "\"\"\")\n",
    "\n",
    "# ---------- STEP 3: insert file rows (filename + relative path) ----------\n",
    "for fp in file_paths:\n",
    "    # compute relative path after base_path\n",
    "    rel = fp[len(base_path):] if fp.startswith(base_path) else fp\n",
    "    filename = Path(fp).name\n",
    "    spark.sql(f\"\"\"\n",
    "        INSERT INTO my_unity_catalog_metastore.base_path.latest_partition_path_info\n",
    "        VALUES ('{sql_escape(filename)}', '{sql_escape(rel)}')\n",
    "    \"\"\")\n",
    "\n",
    "print(f\"Inserted base path: {base_path_name} -> {base_path}\")\n",
    "print(f\"Inserted {len(file_paths)} file rows into latest_partition_path_info.\")\n"
   ]
  },
  {
   "cell_type": "code",
   "execution_count": 0,
   "metadata": {
    "application/vnd.databricks.v1+cell": {
     "cellMetadata": {
      "byteLimit": 2048000,
      "implicitDf": true,
      "rowLimit": 10000
     },
     "inputWidgets": {},
     "nuid": "81fbfedc-fa33-4c01-90c8-e2307cc80185",
     "showTitle": false,
     "tableResultSettingsMap": {},
     "title": ""
    }
   },
   "outputs": [],
   "source": [
    "%sql\n",
    "select * from my_unity_catalog_metastore.base_path.base_path_info"
   ]
  },
  {
   "cell_type": "code",
   "execution_count": 0,
   "metadata": {
    "application/vnd.databricks.v1+cell": {
     "cellMetadata": {
      "byteLimit": 2048000,
      "implicitDf": true,
      "rowLimit": 10000
     },
     "inputWidgets": {},
     "nuid": "fa08f1bb-5713-418b-b25c-5eb3256e4cd4",
     "showTitle": false,
     "tableResultSettingsMap": {
      "0": {
       "dataGridStateBlob": "{\"version\":1,\"tableState\":{\"columnPinning\":{\"left\":[\"#row_number#\"],\"right\":[]},\"columnSizing\":{\"latest_path_location\":655},\"columnVisibility\":{}},\"settings\":{\"columns\":{}},\"syncTimestamp\":1754935413744}",
       "filterBlob": null,
       "queryPlanFiltersBlob": null,
       "tableResultIndex": 0
      }
     },
     "title": ""
    }
   },
   "outputs": [],
   "source": [
    "%sql\n",
    "select * from my_unity_catalog_metastore.base_path.latest_partition_path_info;"
   ]
  },
  {
   "cell_type": "code",
   "execution_count": 0,
   "metadata": {
    "application/vnd.databricks.v1+cell": {
     "cellMetadata": {
      "byteLimit": 2048000,
      "implicitDf": true,
      "rowLimit": 10000
     },
     "inputWidgets": {},
     "nuid": "518dd13a-85a1-474a-b646-c14a407dd9b1",
     "showTitle": false,
     "tableResultSettingsMap": {},
     "title": ""
    }
   },
   "outputs": [],
   "source": [
    "%sql\n",
    "-- truncate table my_unity_catalog_metastore.base_path.base_path_info;\n",
    "    -- \n",
    "-- truncate table my_unity_catalog_metastore.base_path.latest_partition_path_info;"
   ]
  },
  {
   "cell_type": "code",
   "execution_count": 0,
   "metadata": {
    "application/vnd.databricks.v1+cell": {
     "cellMetadata": {},
     "inputWidgets": {},
     "nuid": "688dd2ad-4bbf-42d4-8e50-6f3e049ce0a8",
     "showTitle": false,
     "tableResultSettingsMap": {},
     "title": ""
    }
   },
   "outputs": [],
   "source": []
  }
 ],
 "metadata": {
  "application/vnd.databricks.v1+notebook": {
   "computePreferences": null,
   "dashboards": [],
   "environmentMetadata": {
    "base_environment": "",
    "environment_version": "2"
   },
   "inputWidgetPreferences": null,
   "language": "python",
   "notebookMetadata": {
    "mostRecentlyExecutedCommandWithImplicitDF": {
     "commandId": 5681084838854819,
     "dataframes": [
      "_sqldf"
     ]
    },
    "pythonIndentUnit": 4
   },
   "notebookName": "(Clone) Base_path 2025-08-11 17:09:56",
   "widgets": {}
  },
  "language_info": {
   "name": "python"
  }
 },
 "nbformat": 4,
 "nbformat_minor": 0
}
